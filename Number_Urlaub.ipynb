{
 "cells": [
  {
   "cell_type": "markdown",
   "id": "ff101553",
   "metadata": {},
   "source": [
    "# Number of vacations"
   ]
  },
  {
   "cell_type": "code",
   "execution_count": null,
   "id": "7dcbb0fd",
   "metadata": {},
   "outputs": [],
   "source": [
    "import numpy as np\n",
    "import pandas as pd\n",
    "import matplotlib.pyplot as pplot"
   ]
  },
  {
   "cell_type": "code",
   "execution_count": null,
   "id": "64e1e320",
   "metadata": {},
   "outputs": [],
   "source": [
    "data = pd.read_csv(\"data/Umfragedate.csv\")\n",
    "data.columns"
   ]
  },
  {
   "cell_type": "code",
   "execution_count": null,
   "id": "1c7967ca",
   "metadata": {},
   "outputs": [],
   "source": [
    "data[\"Wie viel verdienen Sie netto im Monat?\"].value_counts()"
   ]
  },
  {
   "cell_type": "code",
   "execution_count": null,
   "id": "1f5db263",
   "metadata": {},
   "outputs": [],
   "source": [
    "data[\"Wie oft haben Sie vor 2019 im Jahr Urlaub gemacht?\"].value_counts()"
   ]
  },
  {
   "cell_type": "code",
   "execution_count": null,
   "id": "30ba0d67",
   "metadata": {},
   "outputs": [],
   "source": [
    "data[\"Wie oft werden Sie dieses Jahr Urlaub machen?\"].value_counts()"
   ]
  },
  {
   "cell_type": "code",
   "execution_count": null,
   "id": "cc599427",
   "metadata": {},
   "outputs": [],
   "source": [
    "data[\"Wie oft haben Sie vor 2019 im Jahr Urlaub gemacht?\"].unique()"
   ]
  },
  {
   "cell_type": "code",
   "execution_count": null,
   "id": "1e1ba2cd",
   "metadata": {},
   "outputs": [],
   "source": [
    "data[\"Wie viel verdienen Sie netto im Monat?\"].unique()"
   ]
  },
  {
   "cell_type": "code",
   "execution_count": null,
   "id": "53321691",
   "metadata": {},
   "outputs": [],
   "source": [
    "questions = [\"Wie oft haben Sie vor 2019 im Jahr Urlaub gemacht?\", \"Wie oft werden Sie dieses Jahr Urlaub machen?\"]\n",
    "number_of_urlaube = [\"Gar nicht\", \"1 mal\", \"2 mal\", \"3 mal\",\"4 mal\", \"Mehr als 4 mal\", \"Keine Angabe\"]\n",
    "income_groups = [\"<1000€\", \"1000€ - 2000€\", \"2001€ - 3000€\", \"3001€ - 4000€\", \"4001€ - 5000€\", \">5000€\", \"Keine Angabe\"]\n",
    "for question_index, question in enumerate(questions):\n",
    "    answers_per_income_group = {}\n",
    "    for income_group in income_groups:\n",
    "        temp_list = []\n",
    "        for iter_number_of_urlaube in number_of_urlaube:\n",
    "            number_of_answers = data.query(f\"`{question}` == @iter_number_of_urlaube and `Wie viel verdienen Sie netto im Monat?` == @income_group\")\n",
    "            temp_list.append(len(number_of_answers))\n",
    "        answers_per_income_group.update({income_group: temp_list})\n",
    "    \n",
    "    print(answers_per_income_group)\n",
    "\n",
    "    x = np.arange(len(number_of_urlaube))\n",
    "    width = 1/8\n",
    "    multiplier = 0\n",
    "    fig, ax = pplot.subplots(figsize=(12,8), layout=\"constrained\")\n",
    "\n",
    "    for attribute, measurement in answers_per_income_group.items():\n",
    "        offset = width * multiplier\n",
    "        rects = ax.bar(x + offset, measurement, width, label=attribute)\n",
    "        ax.bar_label(rects, padding=3)\n",
    "        multiplier += 1\n",
    "\n",
    "    ax.legend()\n",
    "    ax.set_ylabel(\"Anzahl der Antworten\")\n",
    "    ax.set_xticks(x + 3*width, number_of_urlaube)\n",
    "    if question_index == 0:\n",
    "        ax.set_title(\"\")\n",
    "\n",
    "    pplot.show()"
   ]
  },
  {
   "cell_type": "code",
   "execution_count": null,
   "id": "d0767fc2",
   "metadata": {},
   "outputs": [],
   "source": []
  }
 ],
 "metadata": {
  "kernelspec": {
   "display_name": "venv",
   "language": "python",
   "name": "python3"
  },
  "language_info": {
   "codemirror_mode": {
    "name": "ipython",
    "version": 3
   },
   "file_extension": ".py",
   "mimetype": "text/x-python",
   "name": "python",
   "nbconvert_exporter": "python",
   "pygments_lexer": "ipython3",
   "version": "3.13.3"
  }
 },
 "nbformat": 4,
 "nbformat_minor": 5
}
