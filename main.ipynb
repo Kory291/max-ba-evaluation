{
 "cells": [
  {
   "cell_type": "markdown",
   "id": "b375e5b8",
   "metadata": {},
   "source": [
    "# Evaluation of study results"
   ]
  },
  {
   "cell_type": "code",
   "execution_count": null,
   "id": "cd98d1d7",
   "metadata": {},
   "outputs": [],
   "source": [
    "import numpy as np\n",
    "import geopandas as gpd\n",
    "import folium\n",
    "import pandas as pd"
   ]
  },
  {
   "cell_type": "code",
   "execution_count": null,
   "id": "a80dfbaf",
   "metadata": {},
   "outputs": [],
   "source": [
    "MAX_PLZ_STELLEN = 3"
   ]
  },
  {
   "cell_type": "code",
   "execution_count": null,
   "id": "14a9ad3b",
   "metadata": {},
   "outputs": [],
   "source": [
    "data = gpd.read_file(\"data/Umfragedaten.csv\")\n",
    "plz_gebiete = gpd.read_file(\"data/georef-germany-postleitzahl.geojson\")"
   ]
  },
  {
   "cell_type": "code",
   "execution_count": null,
   "id": "b5c170d9",
   "metadata": {},
   "outputs": [],
   "source": [
    "shortened_plz = plz_gebiete[\"name\"].apply(lambda x: x[:MAX_PLZ_STELLEN])\n",
    "plz_gebiete[\"shortened_plz\"] = shortened_plz\n",
    "shortened_plz = data[\"Was ist Ihre Postleitzahl?\"].apply(lambda x: x[:MAX_PLZ_STELLEN])\n",
    "data[\"shortened_plz\"] = shortened_plz"
   ]
  },
  {
   "cell_type": "code",
   "execution_count": null,
   "id": "00825b95",
   "metadata": {},
   "outputs": [],
   "source": [
    "short_plzs = []\n",
    "combined_polygons = []\n",
    "for _, short_plz in enumerate(plz_gebiete[\"shortened_plz\"].unique()):\n",
    "    all_areas = plz_gebiete.query(\"`shortened_plz` == @short_plz\")\n",
    "    polygons = all_areas[\"geometry\"].union_all()\n",
    "    short_plzs.append(short_plz)\n",
    "    combined_polygons.append(polygons)\n",
    "\n",
    "new_plz_gebiete = gpd.GeoDataFrame.from_dict({\"shortened_plz\": short_plzs, \"geometry\": combined_polygons}, crs=\"EPSG:4326\")"
   ]
  },
  {
   "cell_type": "code",
   "execution_count": null,
   "id": "fb998ff2",
   "metadata": {},
   "outputs": [],
   "source": [
    "merged_data = pd.merge(data, new_plz_gebiete, on=\"shortened_plz\")\n",
    "merged_geo_df = gpd.GeoDataFrame(merged_data, geometry=\"geometry\")\n",
    "prevelance = merged_geo_df[\"shortened_plz\"].value_counts()"
   ]
  },
  {
   "cell_type": "code",
   "execution_count": null,
   "id": "635e5304",
   "metadata": {},
   "outputs": [],
   "source": [
    "merged_geo_df[\"shortened_plz\"]"
   ]
  },
  {
   "cell_type": "code",
   "execution_count": null,
   "id": "a4634f4c",
   "metadata": {},
   "outputs": [],
   "source": [
    "merged_geo_df[\"prevelance\"] = merged_geo_df[\"shortened_plz\"].apply(lambda x: prevelance[f\"{x}\"])"
   ]
  },
  {
   "cell_type": "code",
   "execution_count": null,
   "id": "b536a192",
   "metadata": {},
   "outputs": [],
   "source": [
    "m = folium.Map()"
   ]
  },
  {
   "cell_type": "code",
   "execution_count": null,
   "id": "d59a3e9d",
   "metadata": {},
   "outputs": [],
   "source": [
    "folium.GeoJson(merged_geo_df, style_function=lambda row: {\n",
    "    \"fillColor\": \"#00ff00\" if row[\"properties\"][\"prevelance\"] > 10 else \"#ff00ff\"\n",
    "}).add_to(m)"
   ]
  },
  {
   "cell_type": "code",
   "execution_count": null,
   "id": "13c6a721",
   "metadata": {},
   "outputs": [],
   "source": [
    "m"
   ]
  },
  {
   "cell_type": "code",
   "execution_count": null,
   "id": "f9a31c0c",
   "metadata": {},
   "outputs": [],
   "source": []
  }
 ],
 "metadata": {
  "kernelspec": {
   "display_name": "venv",
   "language": "python",
   "name": "python3"
  },
  "language_info": {
   "codemirror_mode": {
    "name": "ipython",
    "version": 3
   },
   "file_extension": ".py",
   "mimetype": "text/x-python",
   "name": "python",
   "nbconvert_exporter": "python",
   "pygments_lexer": "ipython3",
   "version": "3.13.3"
  }
 },
 "nbformat": 4,
 "nbformat_minor": 5
}
